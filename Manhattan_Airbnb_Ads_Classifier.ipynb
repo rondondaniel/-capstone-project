{
  "nbformat": 4,
  "nbformat_minor": 0,
  "metadata": {
    "colab": {
      "name": "Manhattan_Airbnb_Ads_Classifier.ipynb",
      "provenance": [],
      "authorship_tag": "ABX9TyM/w1/TDiXCte4Lxu1fPGAA"
    },
    "kernelspec": {
      "name": "python3",
      "display_name": "Python 3"
    }
  },
  "cells": [
    {
      "cell_type": "markdown",
      "metadata": {
        "id": "gYhrxzEkXdpi",
        "colab_type": "text"
      },
      "source": [
        "#Data Science - Capstone project\n",
        "Warning: all companies, persons, or product names are fictional and any similarity with reality is only pure coincidence. \n"
      ]
    },
    {
      "cell_type": "markdown",
      "metadata": {
        "id": "md5TtrRaXlMn",
        "colab_type": "text"
      },
      "source": [
        "##Introduction/Business Problem\n",
        "After the tourism shock due to Covid-19, Airbnb would like to start adding publicity from local and small businesses on their mobile app. Ok fine, it is great, but where to start looking for those small businesses? how to discover those that better suit users looking for a particular type of guest house? e.g. 4 rooms apartment, single room, etc. What type of venues suggests for what kind of user?\n",
        "“There is where the magic starts”, using the data from Airbnb we’ll try to classify rentals and venues. We are going to check the venues in Manhattan around AirBnB hosts and comparing it with the type of rentals. Knowing the rental type we can then have an idea about guest profiles.\n",
        "In that way, if I succeed, Airbnb will be able to show the best ads to the appropriate user after selling the commercial announcement to the more suitable local business\n"
      ]
    },
    {
      "cell_type": "markdown",
      "metadata": {
        "id": "tGg6fn6hXqm_",
        "colab_type": "text"
      },
      "source": [
        "##DATA\n",
        "I stole the AirBnB data from Kaggle:\n",
        "https://www.kaggle.com/dgomonov/new-york-city-airbnb-open-data\n",
        "This dataset describes the listing activity and metrics in NYC, NY for 2019. This data file includes the needed information to find out more about hosts, geographical availability, necessary metrics to make predictions. We’ll scrap venue data from Foursquare.\n",
        "Dataset is already clean and ready to use, this will save me a lot of time and it will let me have fun faster.\n"
      ]
    },
    {
      "cell_type": "code",
      "metadata": {
        "id": "CZrK33qvXV1i",
        "colab_type": "code",
        "colab": {}
      },
      "source": [
        ""
      ],
      "execution_count": null,
      "outputs": []
    }
  ]
}